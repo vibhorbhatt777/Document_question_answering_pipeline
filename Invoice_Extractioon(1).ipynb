{
  "nbformat": 4,
  "nbformat_minor": 0,
  "metadata": {
    "colab": {
      "provenance": []
    },
    "kernelspec": {
      "name": "python3",
      "display_name": "Python 3"
    },
    "language_info": {
      "name": "python"
    }
  },
  "cells": [
    {
      "cell_type": "code",
      "execution_count": null,
      "metadata": {
        "colab": {
          "base_uri": "https://localhost:8080/"
        },
        "id": "9fF9Co-Y21Ah",
        "outputId": "325b3d90-8993-460f-91da-2b817a6a6ec3"
      },
      "outputs": [
        {
          "output_type": "stream",
          "name": "stdout",
          "text": [
            "Requirement already satisfied: pip<24.1 in /usr/local/lib/python3.11/dist-packages (24.0)\n",
            "\u001b[33mDEPRECATION: textract 1.6.5 has a non-standard dependency specifier extract-msg<=0.29.*. pip 24.1 will enforce this behaviour change. A possible replacement is to upgrade to a newer version of textract or contact the author to suggest that they release a version with a conforming dependency specifiers. Discussion can be found at https://github.com/pypa/pip/issues/12063\u001b[0m\u001b[33m\n",
            "\u001b[0mRequirement already satisfied: textract in /usr/local/lib/python3.11/dist-packages (1.6.5)\n",
            "Requirement already satisfied: argcomplete~=1.10.0 in /usr/local/lib/python3.11/dist-packages (from textract) (1.10.3)\n",
            "Requirement already satisfied: beautifulsoup4~=4.8.0 in /usr/local/lib/python3.11/dist-packages (from textract) (4.8.2)\n",
            "Requirement already satisfied: chardet==3.* in /usr/local/lib/python3.11/dist-packages (from textract) (3.0.4)\n",
            "Requirement already satisfied: docx2txt~=0.8 in /usr/local/lib/python3.11/dist-packages (from textract) (0.8)\n",
            "Requirement already satisfied: extract-msg<=0.29.* in /usr/local/lib/python3.11/dist-packages (from textract) (0.28.7)\n",
            "Requirement already satisfied: pdfminer.six==20191110 in /usr/local/lib/python3.11/dist-packages (from textract) (20191110)\n",
            "Requirement already satisfied: python-pptx~=0.6.18 in /usr/local/lib/python3.11/dist-packages (from textract) (0.6.23)\n",
            "Requirement already satisfied: six~=1.12.0 in /usr/local/lib/python3.11/dist-packages (from textract) (1.12.0)\n",
            "Requirement already satisfied: SpeechRecognition~=3.8.1 in /usr/local/lib/python3.11/dist-packages (from textract) (3.8.1)\n",
            "Requirement already satisfied: xlrd~=1.2.0 in /usr/local/lib/python3.11/dist-packages (from textract) (1.2.0)\n",
            "Requirement already satisfied: pycryptodome in /usr/local/lib/python3.11/dist-packages (from pdfminer.six==20191110->textract) (3.22.0)\n",
            "Requirement already satisfied: sortedcontainers in /usr/local/lib/python3.11/dist-packages (from pdfminer.six==20191110->textract) (2.4.0)\n",
            "Requirement already satisfied: soupsieve>=1.2 in /usr/local/lib/python3.11/dist-packages (from beautifulsoup4~=4.8.0->textract) (2.6)\n",
            "Requirement already satisfied: imapclient==2.1.0 in /usr/local/lib/python3.11/dist-packages (from extract-msg<=0.29.*->textract) (2.1.0)\n",
            "Requirement already satisfied: olefile>=0.46 in /usr/local/lib/python3.11/dist-packages (from extract-msg<=0.29.*->textract) (0.47)\n",
            "Requirement already satisfied: tzlocal>=2.1 in /usr/local/lib/python3.11/dist-packages (from extract-msg<=0.29.*->textract) (5.3)\n",
            "Requirement already satisfied: compressed-rtf>=1.0.6 in /usr/local/lib/python3.11/dist-packages (from extract-msg<=0.29.*->textract) (1.0.6)\n",
            "Requirement already satisfied: ebcdic>=1.1.1 in /usr/local/lib/python3.11/dist-packages (from extract-msg<=0.29.*->textract) (1.1.1)\n",
            "Requirement already satisfied: lxml>=3.1.0 in /usr/local/lib/python3.11/dist-packages (from python-pptx~=0.6.18->textract) (5.3.1)\n",
            "Requirement already satisfied: Pillow>=3.3.2 in /usr/local/lib/python3.11/dist-packages (from python-pptx~=0.6.18->textract) (11.1.0)\n",
            "Requirement already satisfied: XlsxWriter>=0.5.7 in /usr/local/lib/python3.11/dist-packages (from python-pptx~=0.6.18->textract) (3.2.2)\n",
            "\u001b[33mDEPRECATION: textract 1.6.5 has a non-standard dependency specifier extract-msg<=0.29.*. pip 24.1 will enforce this behaviour change. A possible replacement is to upgrade to a newer version of textract or contact the author to suggest that they release a version with a conforming dependency specifiers. Discussion can be found at https://github.com/pypa/pip/issues/12063\u001b[0m\u001b[33m\n",
            "\u001b[0m"
          ]
        }
      ],
      "source": [
        "!pip install \"pip<24.1\"\n",
        "!pip install textract\n"
      ]
    },
    {
      "cell_type": "code",
      "source": [
        "!apt-get install -y poppler-utils\n"
      ],
      "metadata": {
        "colab": {
          "base_uri": "https://localhost:8080/"
        },
        "id": "Iwg3nalYHESG",
        "outputId": "771815cb-29d0-4d92-a245-6ed2daf15515"
      },
      "execution_count": null,
      "outputs": [
        {
          "output_type": "stream",
          "name": "stdout",
          "text": [
            "Reading package lists... Done\n",
            "Building dependency tree... Done\n",
            "Reading state information... Done\n",
            "The following NEW packages will be installed:\n",
            "  poppler-utils\n",
            "0 upgraded, 1 newly installed, 0 to remove and 29 not upgraded.\n",
            "Need to get 186 kB of archives.\n",
            "After this operation, 696 kB of additional disk space will be used.\n",
            "Get:1 http://archive.ubuntu.com/ubuntu jammy-updates/main amd64 poppler-utils amd64 22.02.0-2ubuntu0.6 [186 kB]\n",
            "Fetched 186 kB in 0s (734 kB/s)\n",
            "Selecting previously unselected package poppler-utils.\n",
            "(Reading database ... 124947 files and directories currently installed.)\n",
            "Preparing to unpack .../poppler-utils_22.02.0-2ubuntu0.6_amd64.deb ...\n",
            "Unpacking poppler-utils (22.02.0-2ubuntu0.6) ...\n",
            "Setting up poppler-utils (22.02.0-2ubuntu0.6) ...\n",
            "Processing triggers for man-db (2.10.2-1) ...\n"
          ]
        }
      ]
    },
    {
      "cell_type": "code",
      "source": [
        "!apt-get install -y tesseract-ocr\n"
      ],
      "metadata": {
        "colab": {
          "base_uri": "https://localhost:8080/"
        },
        "id": "64l0UEwNHkG4",
        "outputId": "3ae85ff1-bf69-499a-d1a3-132798235c83"
      },
      "execution_count": null,
      "outputs": [
        {
          "output_type": "stream",
          "name": "stdout",
          "text": [
            "Reading package lists... Done\n",
            "Building dependency tree... Done\n",
            "Reading state information... Done\n",
            "The following additional packages will be installed:\n",
            "  tesseract-ocr-eng tesseract-ocr-osd\n",
            "The following NEW packages will be installed:\n",
            "  tesseract-ocr tesseract-ocr-eng tesseract-ocr-osd\n",
            "0 upgraded, 3 newly installed, 0 to remove and 29 not upgraded.\n",
            "Need to get 4,816 kB of archives.\n",
            "After this operation, 15.6 MB of additional disk space will be used.\n",
            "Get:1 http://archive.ubuntu.com/ubuntu jammy/universe amd64 tesseract-ocr-eng all 1:4.00~git30-7274cfa-1.1 [1,591 kB]\n",
            "Get:2 http://archive.ubuntu.com/ubuntu jammy/universe amd64 tesseract-ocr-osd all 1:4.00~git30-7274cfa-1.1 [2,990 kB]\n",
            "Get:3 http://archive.ubuntu.com/ubuntu jammy/universe amd64 tesseract-ocr amd64 4.1.1-2.1build1 [236 kB]\n",
            "Fetched 4,816 kB in 0s (14.0 MB/s)\n",
            "Selecting previously unselected package tesseract-ocr-eng.\n",
            "(Reading database ... 124977 files and directories currently installed.)\n",
            "Preparing to unpack .../tesseract-ocr-eng_1%3a4.00~git30-7274cfa-1.1_all.deb ...\n",
            "Unpacking tesseract-ocr-eng (1:4.00~git30-7274cfa-1.1) ...\n",
            "Selecting previously unselected package tesseract-ocr-osd.\n",
            "Preparing to unpack .../tesseract-ocr-osd_1%3a4.00~git30-7274cfa-1.1_all.deb ...\n",
            "Unpacking tesseract-ocr-osd (1:4.00~git30-7274cfa-1.1) ...\n",
            "Selecting previously unselected package tesseract-ocr.\n",
            "Preparing to unpack .../tesseract-ocr_4.1.1-2.1build1_amd64.deb ...\n",
            "Unpacking tesseract-ocr (4.1.1-2.1build1) ...\n",
            "Setting up tesseract-ocr-eng (1:4.00~git30-7274cfa-1.1) ...\n",
            "Setting up tesseract-ocr-osd (1:4.00~git30-7274cfa-1.1) ...\n",
            "Setting up tesseract-ocr (4.1.1-2.1build1) ...\n",
            "Processing triggers for man-db (2.10.2-1) ...\n"
          ]
        }
      ]
    },
    {
      "cell_type": "code",
      "source": [
        "import os\n",
        "import spacy\n",
        "import re\n",
        "from dateutil import parser\n",
        "import textract\n",
        "import json\n"
      ],
      "metadata": {
        "id": "4AlYbL_l5XZO"
      },
      "execution_count": null,
      "outputs": []
    },
    {
      "cell_type": "code",
      "source": [
        "nlp = spacy.load(\"en_core_web_sm\")\n"
      ],
      "metadata": {
        "id": "N6apTaKm7Fyw"
      },
      "execution_count": null,
      "outputs": []
    },
    {
      "cell_type": "code",
      "source": [
        "import os\n",
        "\n",
        "# Folder containing the PDF files\n",
        "folder_path = r'/content/'\n",
        "\n",
        "# Check if the folder exists\n",
        "if os.path.exists(folder_path):\n",
        "    # Get all PDF files in the folder\n",
        "    all_pdf = [os.path.join(folder_path, file) for file in os.listdir(folder_path) if file.endswith('.pdf')]\n",
        "\n",
        "    # Print the list of PDF file paths\n",
        "    print(\"List of PDF files:\")\n",
        "    for pdf in all_pdf:\n",
        "        print(pdf)\n",
        "else:\n",
        "    print(f\"Folder does not exist: {folder_path}\")\n",
        "\n",
        "\n",
        "\n"
      ],
      "metadata": {
        "colab": {
          "base_uri": "https://localhost:8080/"
        },
        "id": "gZFIzfE8E9Bg",
        "outputId": "9d5c085f-7569-4028-e1dc-28815d76cbee"
      },
      "execution_count": null,
      "outputs": [
        {
          "output_type": "stream",
          "name": "stdout",
          "text": [
            "List of PDF files:\n",
            "/content/INV_UCB_19847612.pdf\n",
            "/content/201051107425035.pdf\n",
            "/content/202076540912.pdf\n",
            "/content/ISMP23497211.pdf\n",
            "/content/09f8cfb0-d649-0137.pdf\n"
          ]
        }
      ]
    },
    {
      "cell_type": "code",
      "source": [
        "import os\n",
        "print(os.path.exists(r'C:\\Users\\VIBHOR\\Desktop\\Sample_Files'))\n",
        "\n",
        "all_pdf = [r'C:\\Users\\VIBHOR\\Desktop\\Sample_Files\\09f8cfb0-d649-0137.pdf',\n",
        "           r'C:\\Users\\VIBHOR\\Desktop\\Sample_Files\\201051107425035.pdf']\n"
      ],
      "metadata": {
        "colab": {
          "base_uri": "https://localhost:8080/"
        },
        "id": "itwbmP_H7K_y",
        "outputId": "26e18ce4-9b08-403c-9e8c-cdfddd46b236"
      },
      "execution_count": null,
      "outputs": [
        {
          "output_type": "stream",
          "name": "stdout",
          "text": [
            "False\n"
          ]
        }
      ]
    },
    {
      "cell_type": "code",
      "source": [
        "def Is_Invoice_Or_something_else(text):\n",
        "\n",
        "    tokens = text.lower().split()\n",
        "\n",
        "    valid_invoice_tags = ['invoice', 'lading', 'bill']\n",
        "\n",
        "    output = [i for i in tokens if i in valid_invoice_tags]\n",
        "\n",
        "    if len(output) > 0:\n",
        "        return \"Invoice\"\n",
        "    else:\n",
        "        return \"Wrong Invoice Files\""
      ],
      "metadata": {
        "id": "Be0E78hfDwkh"
      },
      "execution_count": null,
      "outputs": []
    },
    {
      "cell_type": "code",
      "source": [
        "def Clean_Text(file):\n",
        "  text = textract.process(file,method='tesseract')\n",
        "\n",
        "  #convert into string\n",
        "  text = text.decode('utf-8')\n",
        "  #replace \"\\r\\n\" with space\n",
        "  text = text.replace(\"\\r\\n\",\" \")\n",
        "  #remove double space\n",
        "  text = re.sub(\" +\",\" \", text)\n",
        "\n",
        "  return text"
      ],
      "metadata": {
        "id": "4BqmU5l-9tfn"
      },
      "execution_count": null,
      "outputs": []
    },
    {
      "cell_type": "code",
      "source": [
        "def Get_Tag_Position(tag, text, direction = 'forward'):\n",
        "\n",
        "    tag = tag.lower()\n",
        "\n",
        "    if direction == 'reverse':\n",
        "        tag_pos = text.lower().rfind(tag)\n",
        "    else:\n",
        "        tag_pos = text.lower().find(tag)\n",
        "\n",
        "    if tag_pos > 0:\n",
        "        start_pos = tag_pos + len(tag) + 1\n",
        "    else:\n",
        "        start_pos = -1\n",
        "\n",
        "    return start_pos"
      ],
      "metadata": {
        "id": "KbjF_sDb-RNc"
      },
      "execution_count": null,
      "outputs": []
    },
    {
      "cell_type": "code",
      "source": [
        "def Get_Invoice_Date(text):\n",
        "\n",
        "    possible_dates = []\n",
        "\n",
        "    # Search for the exact tag mentioned as \"Invoice Date\"\n",
        "    temp_corpus = text[Get_Tag_Position(\"invoice date\", text):]\n",
        "    doc = nlp(temp_corpus)\n",
        "    possible_dates = [ent for ent in doc.ents if ent.label_ == \"DATE\"]\n",
        "\n",
        "\n",
        "    # If the tag \"Invoice Date\" is not found then search for the tag \"Date\"\n",
        "    temp_corpus = text[Get_Tag_Position(\"date\", text):]\n",
        "    doc = nlp(temp_corpus)\n",
        "    possible_dates += [ent for ent in doc.ents if ent.label_ == \"DATE\"]\n",
        "\n",
        "\n",
        "    # If both the above fail then loop through all the tokens and try to identify valid dates\n",
        "    tokens = text.split()\n",
        "\n",
        "    for token in tokens:\n",
        "\n",
        "        if len(token) >= 4:\n",
        "            try:\n",
        "                converted_date = parse(token)\n",
        "                possible_dates.append(token)\n",
        "            except:\n",
        "                continue\n",
        "\n",
        "    # Convert all the date tokens found to string\n",
        "    possible_dates = list(map(str, possible_dates))\n",
        "\n",
        "\n",
        "    # Select only the final valid dates\n",
        "    valid_dates = []\n",
        "\n",
        "    for date in possible_dates:\n",
        "\n",
        "        if len(date) >= 4:\n",
        "            try:\n",
        "                converted_date = parse(date)\n",
        "                valid_dates.append(date)\n",
        "            except:\n",
        "                continue\n",
        "\n",
        "    if len(valid_dates) > 0:\n",
        "        return valid_dates[0]\n",
        "    else:\n",
        "        return \"No Invoice Date Found\""
      ],
      "metadata": {
        "id": "Ckof_te--aay"
      },
      "execution_count": null,
      "outputs": []
    },
    {
      "cell_type": "code",
      "source": [
        "#Get invoice Amount\n",
        "def Parse_Amounts(text):\n",
        "  money = re.compile('|'.join([\n",
        "       r\"\\$?\\d+\\.?\\d+\\,\\d{1,2} \",  # EUR format\n",
        "       r\"\\$?\\d+\\,?\\d+\\.\\d{1,2} \",  # USD format\n",
        "       r\"\\$\\d+\\,?\\d*\\.?\\d{1,2} \",  # USD format without decimals\n",
        "\n",
        "  ]))\n",
        "  matches = re.findall(money,text)\n",
        "  matches = [i.strip() for i in matches]\n",
        "\n",
        "  return matches\n",
        "\n"
      ],
      "metadata": {
        "id": "O9FnWIjWBdOy"
      },
      "execution_count": null,
      "outputs": []
    },
    {
      "cell_type": "code",
      "source": [
        "def Get_Invoice_Amount(text):\n",
        "\n",
        "    text = text.lower()\n",
        "\n",
        "    invoice_amount = \"\"\n",
        "\n",
        "    amounts = Parse_Amounts(text)\n",
        "\n",
        "    if len(amounts) > 0:\n",
        "        invoice_amount = amounts[-1]\n",
        "    else:\n",
        "\n",
        "        temp_corpus = text[Get_Tag_Position(\"total\", text, direction='reverse'):]\n",
        "        numbers = re.findall(\"\\d+\", temp_corpus)\n",
        "\n",
        "        if len(numbers) > 0:\n",
        "            invoice_amount = numbers[0]\n",
        "\n",
        "    return invoice_amount\n",
        "\n"
      ],
      "metadata": {
        "id": "hjdEZgaECCqR"
      },
      "execution_count": null,
      "outputs": []
    },
    {
      "cell_type": "code",
      "source": [
        "#Get Invoice Number\n",
        "\n",
        "def Extract_Tag_Data(tag, text, direction = 'forward'):\n",
        "\n",
        "    token = ''\n",
        "\n",
        "    start_pos = Get_Tag_Position(tag, text, direction=direction)\n",
        "\n",
        "    if start_pos > 0:\n",
        "        temp_corpus = text[start_pos:]\n",
        "        token = temp_corpus.split('|')[0]\n",
        "\n",
        "    return token"
      ],
      "metadata": {
        "id": "59sL83jPC3Wc"
      },
      "execution_count": null,
      "outputs": []
    },
    {
      "cell_type": "code",
      "source": [
        "def Get_Invoice_Number(file):\n",
        "\n",
        "    # Preprocess the text. Using pipe delimited format as the invoice number has spaces in some cases\n",
        "    #------------------------------------------------------------------------------------------------\n",
        "\n",
        "    text = textract.process(file, method='tesseract')\n",
        "    text = text\n",
        "    text = text.replace(\"\\r\\n\", \"|\")\n",
        "    text = re.sub(\" +\", \" \", text)\n",
        "\n",
        "    tokens = [i for i in text.split('|') if len(i) > 1]\n",
        "    text = '|'.join(tokens)\n",
        "\n",
        "    text = text.lower()\n",
        "    text = re.sub(\" number:| no\\.| n\\.\", \" number\", text)\n",
        "\n",
        "\n",
        "    # Extract the Invoice Number\n",
        "    #---------------------------\n",
        "    valid_matches = []\n",
        "\n",
        "    keywords = [\"invoice number\", \"lading number\", \"invoice\", \"lading\", \"number\"]\n",
        "\n",
        "    for keyword in keywords:\n",
        "\n",
        "        token = Extract_Tag_Data(keyword, text, 'reverse')\n",
        "\n",
        "        if len(token) > 0:\n",
        "            valid_matches.append(token)\n",
        "\n",
        "    valid_matches = [i.upper() for i in valid_matches]\n",
        "\n",
        "    if len(valid_matches) > 0:\n",
        "        invoice_number = valid_matches[0]\n",
        "        if len(invoice_number) > 20:\n",
        "            invoice_number = invoice_number.split('/')[0]\n",
        "    else:\n",
        "        invoice_number = \"No Invoice Number found\"\n",
        "\n",
        "    return invoice_number"
      ],
      "metadata": {
        "id": "e426nHg5DEH4"
      },
      "execution_count": null,
      "outputs": []
    },
    {
      "cell_type": "code",
      "source": [
        "#Packaging all together\n",
        "for file in all_pdf:\n",
        "\n",
        "    print(\"Processing File :\", file)\n",
        "\n",
        "    file_text = Clean_Text(file)\n",
        "\n",
        "    if Is_Invoice_Or_something_else(file_text) == \"Invoice\":\n",
        "\n",
        "        Invoice_Number = Get_Invoice_Number(file)\n",
        "        Invoice_Date = Get_Invoice_Date(file_text)\n",
        "        Invoice_Amount = Get_Invoice_Amount(file_text)\n",
        "\n",
        "        print(\"Document Type : Invoice\")\n",
        "        print(\"Invoice Number :\", Invoice_Number)\n",
        "        print(\"Invoice Date :\", Invoice_Date)\n",
        "        print(\"Invoice Amount :\", Invoice_Amount)\n",
        "        print(\"\\n\")\n",
        "\n",
        "    else:\n",
        "\n",
        "        print(\"you got the wrong bill\")\n"
      ],
      "metadata": {
        "colab": {
          "base_uri": "https://localhost:8080/"
        },
        "id": "Z7RFZJ9WDLjd",
        "outputId": "c0625419-f393-4305-ca89-f280431c460b"
      },
      "execution_count": null,
      "outputs": [
        {
          "output_type": "stream",
          "name": "stdout",
          "text": [
            "Processing File : /content/INV_UCB_19847612.pdf\n",
            "Document Type : Invoice\n",
            "Invoice Number : 90000178\n",
            "DOCUMENT DATE: 08 JANUARY 2019\n",
            "\n",
            " \n",
            "\n",
            " \n",
            "\n",
            "PACKAGING INFORMATION\n",
            "NUMBER OF PIECES\n",
            "2 PALLET\n",
            "\n",
            "TOTAL NUMBER OF UNITS: 2 PIECE\n",
            "\n",
            " \n",
            "\n",
            "INVOICE DETAILS\n",
            "\n",
            "VAT REGISTRATION NO: BE0810940487\n",
            "\n",
            "PAYER: 20000391\n",
            "\n",
            "YOUR REFERENCE: BEBRA00003420904\n",
            "\n",
            "OUR REFERENCE: 93209634\n",
            "\n",
            "ORDER DATE: 21 SEP 2018\n",
            "\n",
            "TERMS OF DELIVERY: EXW BRAINE L’ALLEUD\n",
            "MODE OF TRANSPORT: BOAT - COLLECTED\n",
            "\n",
            "CURRENCY: EUR\n",
            "\n",
            " \n",
            "\n",
            " \n",
            "\n",
            "MATERIAL CODE DESCRIPTION BATCH QUANTITY AMOUNT\n",
            "VALUE\n",
            "CIA03203 KEPPRA IV SOOMG\n",
            "Invoice Date : No Invoice Date Found\n",
            "Invoice Amount : 31.989,48\n",
            "\n",
            "\n",
            "Processing File : /content/201051107425035.pdf\n",
            "Document Type : Invoice\n",
            "Invoice Number : TERRELL RICHEMOND VIVAMUS IN FELIS EU SAPIEN CURSUS\n",
            "\n",
            "VESTIBULUM. PROIN EU MI. NULLA AC ENIM.\n",
            "\n",
            "IN TEMPOR, TURPIS NEC EUISMOD\n",
            "\n",
            "YRUAN@EXAMPLE.COM SCELERISQUE, QUAM TURPIS ADIPISCING\n",
            "LOREM, VITAE MATTIS NIBH LIGULA NEC SEM.\n",
            "\n",
            "EMAIL\n",
            "\n",
            "PHONE NUMBER\n",
            "\n",
            "+33 (13) 634-6159 INVOICE DATE\n",
            "NOVEMBER 6, 1971 22:28\n",
            "\n",
            " \n",
            "\n",
            "ADDRESS\n",
            "154 MUIR CROSSING, 8509 GALE JUNCTION DUE DATE\n",
            "WASHINGTON, DISTRICT OF COLUMBIA, 20540 NOVEMBER 6, 1971 22:28\n",
            "UNITED STATES\n",
            "NOTES SUBTOTAL 4618\n",
            "THIS INVOICE IS IN USD. TAX ($) 6\n",
            "TOTAL PAYMENT DUE IS 30 DAYS.\n",
            "TOTAL AMOUNT 4618\n",
            "\n",
            "THANK YOU FOR YOUR BUSINESS!\n",
            "\n",
            "CREATE YOUR OWN AUTOMATED PDFS WITH JOTFORM PDF EDITOR 7 JOTFORM\n",
            "\f\n",
            "Invoice Date : No Invoice Date Found\n",
            "Invoice Amount : 4618\n",
            "\n",
            "\n",
            "Processing File : /content/202076540912.pdf\n",
            "Document Type : Invoice\n",
            "Invoice Number : 8555691 \n",
            "Invoice Date : No Invoice Date Found\n",
            "Invoice Amount : 21.153,60\n",
            "\n",
            "\n",
            "Processing File : /content/ISMP23497211.pdf\n",
            "Document Type : Invoice\n",
            "Invoice Number : INV-3337\n",
            "FROM:\n",
            "DEMO - SLICED INVOICES ORDER NUMBER 12345\n",
            "SUITE 54-1204 INVOICE DATE JANUARY 25, 2016\n",
            "123 SOMEWHERE STREET DUE DATE JANUARY 31, 2016\n",
            "YOUR CITY AZ 12345\n",
            "ADMIN @SLICEDINVOICES.COM WEED EASE)\n",
            "TO:\n",
            "TEST BUSINESS\n",
            "123 SOMEWHERE ST\n",
            "MELBOURNE, VIC 3000\n",
            "TEST@TEST.COM\n",
            "HRS\n",
            "Invoice Date : No Invoice Date Found\n",
            "Invoice Amount : $85.00\n",
            "\n",
            "\n",
            "Processing File : /content/09f8cfb0-d649-0137.pdf\n",
            "Document Type : Invoice\n",
            "Invoice Number : CMDU SZ. 023 7\n",
            "Invoice Date : No Invoice Date Found\n",
            "Invoice Amount : 19.59\n",
            "\n",
            "\n"
          ]
        }
      ]
    }
  ]
}